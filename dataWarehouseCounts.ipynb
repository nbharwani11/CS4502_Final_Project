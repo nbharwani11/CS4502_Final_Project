{
 "cells": [
  {
   "cell_type": "code",
   "execution_count": 51,
   "id": "f61ecdd9",
   "metadata": {},
   "outputs": [],
   "source": [
    "%matplotlib notebook"
   ]
  },
  {
   "cell_type": "code",
   "execution_count": 52,
   "id": "8bf011f1",
   "metadata": {},
   "outputs": [],
   "source": [
    "import matplotlib.pyplot as plt\n",
    "import numpy as np\n",
    "import pandas as pd\n",
    "import seaborn as sns"
   ]
  },
  {
   "cell_type": "code",
   "execution_count": 53,
   "id": "da968343",
   "metadata": {},
   "outputs": [],
   "source": [
    "#\n",
    "# Put crime.csv into Pandas dataframe\n",
    "#\n",
    "crime_data = pd.read_csv('crime.csv')"
   ]
  },
  {
   "cell_type": "code",
   "execution_count": 54,
   "id": "17955c95",
   "metadata": {},
   "outputs": [
    {
     "name": "stdout",
     "output_type": "stream",
     "text": [
      "['aggravated-assault', 'all-other-crimes', 'arson', 'auto-theft', 'burglary', 'drug-alcohol', 'larceny', 'murder', 'other-crimes-against-persons', 'public-disorder', 'robbery', 'sexual-assault', 'theft-from-motor-vehicle', 'traffic-accident', 'white-collar-crime']\n"
     ]
    }
   ],
   "source": [
    "#\n",
    "#\n",
    "#\n",
    "crime_nbhds = ['athmar-park', 'auraria', 'baker', 'barnum', 'barnum-west', 'bear-valley', 'belcaro', 'berkeley', 'capitol-hill', 'cbd', 'chaffee-park', 'cheesman-park', 'cherry-creek', 'city-park', 'city-park-west', 'civic-center', 'clayton', 'cole', 'college-view-south-platte', 'congress-park', 'cory-merrill', 'country-club', 'dia', 'east-colfax', 'elyria-swansea', 'five-points', 'fort-logan', 'gateway-green-valley-ranch', 'globeville', 'goldsmith', 'hale', 'hampden', 'hampden-south', 'harvey-park', 'harvey-park-south', 'highland', 'hilltop', 'indian-creek', 'jefferson-park', 'kennedy', 'lincoln-park', 'lowry-field', 'mar-lee', 'marston', 'montbello', 'montclair', 'north-capitol-hill', 'north-park-hill', 'northeast-park-hill', 'overland', 'platt-park', 'regis', 'rosedale', 'ruby-hill', 'skyland', 'sloan-lake', 'south-park-hill', 'southmoor-park', 'speer', 'stapleton', 'sun-valley', 'sunnyside', 'union-station', 'university', 'university-hills', 'university-park', 'valverde', 'villa-park', 'virginia-village', 'washington-park', 'washington-park-west', 'washington-virginia-vale', 'wellshire', 'west-colfax', 'west-highland', 'westwood', 'whittier', 'windsor']\n",
    "formatted_crime_nbhds = ['Athmar Park', 'Auraria', 'Baker', 'Barnum', 'Barnum West', 'Bear Valley', 'Belcaro', 'Berkeley', 'CBD', 'Capitol Hill', 'Chaffee Park', 'Cheesman Park', 'Cherry Creek', 'City Park', 'City Park West', 'Civic Center', 'Clayton', 'Cole', 'College View - South Platte', 'Congress Park', 'Cory - Merrill', 'Country Club', 'DIA', 'East Colfax', 'Elyria Swansea', 'Five Points', 'Fort Logan', 'Gateway - Green Valley Ranch', 'Globeville', 'Goldsmith', 'Hale', 'Hampden', 'Hampden South', 'Harvey Park', 'Harvey Park South', 'Highland', 'Hilltop', 'Indian Creek', 'Jefferson Park', 'Kennedy', 'Lincoln Park', 'Lowry Field', 'Mar Lee', 'Marston', 'Montbello', 'Montclair', 'North Capitol Hill', 'North Park Hill', 'Northeast Park Hill', 'Overland', 'Platt Park', 'Regis', 'Rosedale', 'Ruby Hill', 'Skyland', 'Sloan Lake', 'South Park Hill', 'Southmoor Park', 'Speer', 'Stapleton', 'Sun Valley', 'Sunnyside', 'Union Station', 'University', 'University Hills', 'University Park', 'Valverde', 'Villa Park', 'Virginia Village', 'Washington Park', 'Washington Park West', 'Washington Virginia Vale', 'Wellshire', 'West Colfax', 'West Highland', 'Westwood', 'Whittier', 'Windsor']\n",
    "crimes = crime_data.OFFENSE_CATEGORY_ID.unique().tolist()\n",
    "crimes.sort()\n",
    "print(crimes)"
   ]
  },
  {
   "cell_type": "code",
   "execution_count": 55,
   "id": "0cda427a",
   "metadata": {},
   "outputs": [
    {
     "data": {
      "text/plain": [
       "INCIDENT_ID               211\n",
       "OFFENSE_ID                211\n",
       "OFFENSE_CODE              211\n",
       "OFFENSE_CODE_EXTENSION    211\n",
       "OFFENSE_TYPE_ID           211\n",
       "OFFENSE_CATEGORY_ID       211\n",
       "FIRST_OCCURRENCE_DATE     211\n",
       "LAST_OCCURRENCE_DATE       47\n",
       "REPORTED_DATE             211\n",
       "INCIDENT_ADDRESS          157\n",
       "GEO_X                     211\n",
       "GEO_Y                     211\n",
       "GEO_LON                   211\n",
       "GEO_LAT                   211\n",
       "DISTRICT_ID               211\n",
       "PRECINCT_ID               211\n",
       "NEIGHBORHOOD_ID           211\n",
       "IS_CRIME                  211\n",
       "IS_TRAFFIC                211\n",
       "dtype: int64"
      ]
     },
     "execution_count": 55,
     "metadata": {},
     "output_type": "execute_result"
    }
   ],
   "source": [
    "count = crime_data.query(f'NEIGHBORHOOD_ID == \"athmar-park\" and OFFENSE_CATEGORY_ID == \"aggravated-assault\"').count()\n",
    "count"
   ]
  },
  {
   "cell_type": "code",
   "execution_count": 56,
   "id": "0e8b613b",
   "metadata": {},
   "outputs": [
    {
     "name": "stdout",
     "output_type": "stream",
     "text": [
      "['Athmar Park', 211, 1498, 11, 551, 295, 438, 380, 11, 263, 612, 102, 44, 639, 1419, 73], ['Auraria', 58, 1416, 4, 97, 104, 227, 558, 1, 222, 484, 33, 35, 147, 1291, 40], ['Baker', 183, 1745, 25, 624, 515, 554, 1530, 5, 297, 979, 128, 38, 824, 5964, 102], ['Barnum', 185, 1530, 19, 342, 220, 285, 178, 6, 238, 534, 81, 44, 357, 1239, 54], ['Barnum West', 94, 653, 6, 323, 140, 236, 116, 3, 128, 292, 29, 19, 310, 775, 26], ['Bear Valley', 93, 352, 4, 498, 197, 124, 222, 2, 232, 503, 34, 31, 530, 593, 60], ['Belcaro', 19, 217, 3, 154, 214, 56, 290, 1, 57, 185, 27, 15, 343, 1013, 45], ['Berkeley', 80, 595, 2, 382, 414, 170, 535, 2, 182, 467, 58, 38, 614, 1378, 49], ['CBD', 596, 2790, 22, 973, 772, 2542, 1986, 9, 1079, 2197, 279, 174, 1654, 3523, 141], ['Capitol Hill', 546, 3751, 27, 538, 378, 1242, 3729, 7, 1085, 2235, 335, 175, 941, 2362, 257], ['Chaffee Park', 66, 435, 5, 278, 124, 173, 232, 1, 115, 258, 63, 15, 274, 497, 36], ['Cheesman Park', 152, 1006, 11, 413, 370, 976, 753, 2, 349, 790, 91, 55, 632, 1516, 62], ['Cherry Creek', 40, 265, 3, 264, 428, 82, 1620, 0, 110, 367, 60, 24, 540, 1868, 187], ['City Park', 63, 255, 6, 155, 141, 98, 436, 1, 96, 367, 37, 40, 265, 689, 31], ['City Park West', 240, 1002, 6, 313, 366, 671, 743, 5, 449, 860, 99, 67, 485, 1351, 62], ['Civic Center', 364, 5108, 14, 206, 263, 1274, 775, 5, 1093, 1359, 116, 172, 414, 1917, 96], ['Clayton', 136, 774, 6, 261, 229, 175, 315, 7, 195, 419, 60, 27, 282, 573, 46], ['Cole', 165, 784, 11, 247, 221, 201, 286, 2, 188, 458, 72, 32, 273, 530, 42], ['College View - South Platte', 241, 975, 16, 492, 336, 328, 994, 4, 345, 604, 114, 40, 564, 1019, 99], ['Congress Park', 107, 392, 8, 427, 411, 124, 604, 3, 171, 486, 56, 45, 748, 2155, 71], ['Cory - Merrill', 20, 234, 0, 134, 176, 133, 640, 0, 59, 205, 39, 12, 279, 742, 62], ['Country Club', 9, 101, 0, 92, 188, 13, 105, 0, 11, 129, 7, 4, 211, 362, 13], ['DIA', 114, 1483, 4, 1708, 143, 245, 1527, 4, 314, 749, 50, 57, 871, 2243, 611], ['East Colfax', 462, 3736, 24, 819, 543, 1692, 623, 22, 536, 1455, 278, 110, 780, 1454, 112], ['Elyria Swansea', 250, 1137, 27, 757, 470, 261, 455, 15, 305, 662, 75, 48, 528, 2734, 80], ['Five Points', 1209, 4445, 40, 1449, 1273, 2982, 3241, 26, 1927, 3437, 443, 305, 2922, 4258, 230], ['Fort Logan', 92, 210, 5, 288, 187, 32, 161, 1, 162, 344, 15, 23, 501, 429, 27], ['Gateway - Green Valley Ranch', 484, 1657, 10, 1506, 638, 194, 787, 17, 768, 1741, 199, 152, 1437, 2640, 210], ['Globeville', 186, 1621, 14, 529, 236, 413, 390, 6, 235, 564, 75, 54, 477, 3167, 74], ['Goldsmith', 148, 552, 3, 506, 222, 264, 297, 5, 241, 455, 65, 46, 481, 1336, 74], ['Hale', 86, 357, 4, 363, 267, 85, 453, 2, 169, 489, 49, 45, 588, 1077, 65], ['Hampden', 295, 794, 9, 1245, 567, 175, 738, 8, 502, 1155, 160, 83, 1437, 1800, 164], ['Hampden South', 133, 561, 9, 794, 457, 232, 671, 7, 248, 749, 80, 55, 1214, 4063, 168], ['Harvey Park', 223, 964, 13, 455, 268, 257, 410, 5, 282, 771, 90, 56, 624, 1324, 80], ['Harvey Park South', 122, 461, 7, 430, 205, 132, 501, 3, 204, 454, 71, 48, 481, 794, 79], ['Highland', 147, 1257, 6, 687, 708, 191, 1130, 4, 300, 861, 84, 65, 1218, 2917, 93], ['Hilltop', 48, 188, 5, 269, 262, 33, 250, 2, 91, 259, 12, 22, 484, 1122, 48], ['Indian Creek', 13, 38, 0, 98, 56, 4, 66, 2, 31, 99, 3, 2, 156, 105, 24], ['Jefferson Park', 77, 583, 4, 320, 260, 172, 480, 2, 100, 388, 30, 27, 467, 1994, 48], ['Kennedy', 128, 263, 6, 403, 152, 57, 147, 3, 171, 355, 53, 34, 418, 325, 19], ['Lincoln Park', 420, 2602, 23, 696, 399, 722, 1101, 7, 1020, 1567, 147, 178, 825, 3581, 107], ['Lowry Field', 122, 395, 3, 366, 361, 64, 422, 6, 224, 509, 33, 37, 634, 1101, 70], ['Mar Lee', 267, 1490, 15, 632, 303, 350, 417, 9, 373, 751, 105, 79, 596, 1542, 93], ['Marston', 67, 483, 3, 337, 173, 47, 597, 0, 203, 448, 36, 34, 531, 784, 84], ['Montbello', 760, 4734, 39, 1428, 530, 664, 855, 25, 985, 2121, 256, 171, 1300, 3344, 231], ['Montclair', 61, 539, 3, 251, 260, 137, 709, 4, 139, 326, 76, 24, 342, 1320, 55], ['North Capitol Hill', 342, 1547, 14, 442, 466, 1010, 1130, 5, 610, 1187, 162, 118, 841, 1630, 184], ['North Park Hill', 105, 640, 5, 281, 363, 68, 271, 4, 141, 357, 39, 26, 416, 928, 48], ['Northeast Park Hill', 338, 1659, 14, 955, 435, 277, 649, 15, 499, 952, 91, 86, 961, 2873, 141], ['Overland', 109, 883, 11, 340, 368, 372, 372, 3, 156, 428, 45, 32, 501, 1460, 51], ['Platt Park', 23, 272, 7, 266, 358, 105, 349, 1, 74, 317, 36, 16, 574, 906, 41], ['Regis', 56, 393, 5, 290, 197, 152, 218, 0, 90, 236, 22, 28, 317, 605, 37], ['Rosedale', 20, 164, 1, 126, 173, 74, 125, 0, 71, 154, 13, 19, 230, 445, 19], ['Ruby Hill', 235, 1330, 10, 586, 337, 320, 305, 5, 309, 647, 75, 61, 595, 1172, 78], ['Skyland', 48, 428, 4, 93, 143, 40, 114, 4, 87, 194, 29, 10, 192, 538, 18], ['Sloan Lake', 97, 496, 4, 399, 435, 102, 396, 1, 144, 505, 36, 23, 582, 805, 29], ['South Park Hill', 71, 448, 4, 304, 284, 104, 341, 5, 154, 471, 78, 32, 455, 1101, 45], ['Southmoor Park', 35, 116, 4, 317, 201, 38, 212, 0, 82, 278, 15, 17, 558, 874, 50], ['Speer', 100, 936, 4, 689, 558, 216, 1151, 4, 246, 804, 76, 53, 1144, 2361, 116], ['Stapleton', 19, 294, 0, 62, 78, 104, 367, 0, 58, 89, 15, 0, 56, 780, 32], ['Sun Valley', 148, 1215, 5, 187, 111, 336, 294, 3, 250, 426, 85, 26, 161, 685, 32], ['Sunnyside', 167, 967, 8, 575, 387, 224, 491, 4, 291, 766, 93, 42, 643, 1406, 78], ['Union Station', 552, 2495, 13, 444, 626, 540, 2714, 11, 1018, 1466, 263, 150, 978, 1995, 153], ['University', 53, 314, 0, 292, 264, 83, 477, 2, 129, 429, 51, 36, 576, 1250, 71], ['University Hills', 72, 371, 2, 251, 260, 187, 687, 2, 115, 400, 53, 25, 493, 1074, 69], ['University Park', 42, 313, 4, 299, 296, 206, 466, 0, 99, 359, 41, 31, 602, 956, 76], ['Valverde', 156, 740, 15, 371, 238, 213, 218, 4, 145, 375, 77, 22, 361, 648, 40], ['Villa Park', 229, 1901, 17, 612, 333, 440, 366, 4, 319, 668, 136, 58, 527, 1457, 56], ['Virginia Village', 101, 495, 8, 684, 380, 220, 644, 4, 271, 579, 51, 53, 802, 1557, 133], ['Washington Park', 28, 195, 1, 195, 281, 73, 275, 0, 71, 264, 7, 24, 479, 1062, 43], ['Washington Park West', 33, 315, 1, 301, 357, 77, 392, 1, 73, 328, 13, 15, 658, 1667, 53], ['Washington Virginia Vale', 194, 763, 8, 715, 486, 237, 709, 4, 374, 821, 109, 90, 804, 2029, 127], ['Wellshire', 8, 33, 0, 47, 61, 17, 50, 0, 14, 60, 4, 3, 113, 169, 10], ['West Colfax', 403, 2489, 22, 790, 541, 649, 938, 13, 642, 1424, 174, 124, 869, 1527, 83], ['West Highland', 58, 467, 2, 415, 441, 100, 620, 1, 157, 470, 50, 30, 749, 1229, 67], ['Westwood', 474, 3213, 20, 912, 420, 572, 399, 17, 598, 1116, 173, 91, 857, 2341, 78], ['Whittier', 152, 594, 2, 250, 185, 74, 259, 5, 201, 427, 36, 32, 276, 506, 29], ['Windsor', 148, 244, 3, 683, 312, 49, 291, 3, 275, 560, 50, 55, 679, 886, 131], \n"
     ]
    }
   ],
   "source": [
    "#\n",
    "# Build data warehouse\n",
    "#\n",
    "\n",
    "# initialize list of lists\n",
    "warehouse = \"\"\n",
    "row = []\n",
    "\n",
    "# Check length of neighborhood lists \n",
    "#     to be used in indexing the following 'for' loop\n",
    "assert( len(crime_nbhds) == len(formatted_crime_nbhds) )\n",
    "\n",
    "#\n",
    "# Create list of lists corresponding to desired DataFrame\n",
    "#\n",
    "for i in range(len(crime_nbhds)):\n",
    "    row.clear()\n",
    "    row.append(formatted_crime_nbhds[i])\n",
    "    nbhd = crime_nbhds[i]\n",
    "    for j in range(len(crimes)):\n",
    "        numInstances = crime_data.query(f'NEIGHBORHOOD_ID == \"{nbhd}\" and OFFENSE_CATEGORY_ID == \"{crimes[j]}\"').count()\n",
    "        assert(numInstances[5]==numInstances[16])\n",
    "        row.append(numInstances[5])\n",
    "    warehouse += f\"{row}, \"\n",
    "\n",
    "print(warehouse)"
   ]
  },
  {
   "cell_type": "code",
   "execution_count": 57,
   "id": "dd8b7177",
   "metadata": {},
   "outputs": [],
   "source": [
    "warehouse = [['Athmar Park', 211, 1498, 11, 551, 295, 438, 380, 11, 263, 612, 102, 44, 639, 1419, 73], ['Auraria', 58, 1416, 4, 97, 104, 227, 558, 1, 222, 484, 33, 35, 147, 1291, 40], ['Baker', 183, 1745, 25, 624, 515, 554, 1530, 5, 297, 979, 128, 38, 824, 5964, 102], ['Barnum', 185, 1530, 19, 342, 220, 285, 178, 6, 238, 534, 81, 44, 357, 1239, 54], ['Barnum West', 94, 653, 6, 323, 140, 236, 116, 3, 128, 292, 29, 19, 310, 775, 26], ['Bear Valley', 93, 352, 4, 498, 197, 124, 222, 2, 232, 503, 34, 31, 530, 593, 60], ['Belcaro', 19, 217, 3, 154, 214, 56, 290, 1, 57, 185, 27, 15, 343, 1013, 45], ['Berkeley', 80, 595, 2, 382, 414, 170, 535, 2, 182, 467, 58, 38, 614, 1378, 49], ['CBD', 596, 2790, 22, 973, 772, 2542, 1986, 9, 1079, 2197, 279, 174, 1654, 3523, 141], ['Capitol Hill', 546, 3751, 27, 538, 378, 1242, 3729, 7, 1085, 2235, 335, 175, 941, 2362, 257], ['Chaffee Park', 66, 435, 5, 278, 124, 173, 232, 1, 115, 258, 63, 15, 274, 497, 36], ['Cheesman Park', 152, 1006, 11, 413, 370, 976, 753, 2, 349, 790, 91, 55, 632, 1516, 62], ['Cherry Creek', 40, 265, 3, 264, 428, 82, 1620, 0, 110, 367, 60, 24, 540, 1868, 187], ['City Park', 63, 255, 6, 155, 141, 98, 436, 1, 96, 367, 37, 40, 265, 689, 31], ['City Park West', 240, 1002, 6, 313, 366, 671, 743, 5, 449, 860, 99, 67, 485, 1351, 62], ['Civic Center', 364, 5108, 14, 206, 263, 1274, 775, 5, 1093, 1359, 116, 172, 414, 1917, 96], ['Clayton', 136, 774, 6, 261, 229, 175, 315, 7, 195, 419, 60, 27, 282, 573, 46], ['Cole', 165, 784, 11, 247, 221, 201, 286, 2, 188, 458, 72, 32, 273, 530, 42], ['College View - South Platte', 241, 975, 16, 492, 336, 328, 994, 4, 345, 604, 114, 40, 564, 1019, 99], ['Congress Park', 107, 392, 8, 427, 411, 124, 604, 3, 171, 486, 56, 45, 748, 2155, 71], ['Cory - Merrill', 20, 234, 0, 134, 176, 133, 640, 0, 59, 205, 39, 12, 279, 742, 62], ['Country Club', 9, 101, 0, 92, 188, 13, 105, 0, 11, 129, 7, 4, 211, 362, 13], ['DIA', 114, 1483, 4, 1708, 143, 245, 1527, 4, 314, 749, 50, 57, 871, 2243, 611], ['East Colfax', 462, 3736, 24, 819, 543, 1692, 623, 22, 536, 1455, 278, 110, 780, 1454, 112], ['Elyria Swansea', 250, 1137, 27, 757, 470, 261, 455, 15, 305, 662, 75, 48, 528, 2734, 80], ['Five Points', 1209, 4445, 40, 1449, 1273, 2982, 3241, 26, 1927, 3437, 443, 305, 2922, 4258, 230], ['Fort Logan', 92, 210, 5, 288, 187, 32, 161, 1, 162, 344, 15, 23, 501, 429, 27], ['Gateway - Green Valley Ranch', 484, 1657, 10, 1506, 638, 194, 787, 17, 768, 1741, 199, 152, 1437, 2640, 210], ['Globeville', 186, 1621, 14, 529, 236, 413, 390, 6, 235, 564, 75, 54, 477, 3167, 74], ['Goldsmith', 148, 552, 3, 506, 222, 264, 297, 5, 241, 455, 65, 46, 481, 1336, 74], ['Hale', 86, 357, 4, 363, 267, 85, 453, 2, 169, 489, 49, 45, 588, 1077, 65], ['Hampden', 295, 794, 9, 1245, 567, 175, 738, 8, 502, 1155, 160, 83, 1437, 1800, 164], ['Hampden South', 133, 561, 9, 794, 457, 232, 671, 7, 248, 749, 80, 55, 1214, 4063, 168], ['Harvey Park', 223, 964, 13, 455, 268, 257, 410, 5, 282, 771, 90, 56, 624, 1324, 80], ['Harvey Park South', 122, 461, 7, 430, 205, 132, 501, 3, 204, 454, 71, 48, 481, 794, 79], ['Highland', 147, 1257, 6, 687, 708, 191, 1130, 4, 300, 861, 84, 65, 1218, 2917, 93], ['Hilltop', 48, 188, 5, 269, 262, 33, 250, 2, 91, 259, 12, 22, 484, 1122, 48], ['Indian Creek', 13, 38, 0, 98, 56, 4, 66, 2, 31, 99, 3, 2, 156, 105, 24], ['Jefferson Park', 77, 583, 4, 320, 260, 172, 480, 2, 100, 388, 30, 27, 467, 1994, 48], ['Kennedy', 128, 263, 6, 403, 152, 57, 147, 3, 171, 355, 53, 34, 418, 325, 19], ['Lincoln Park', 420, 2602, 23, 696, 399, 722, 1101, 7, 1020, 1567, 147, 178, 825, 3581, 107], ['Lowry Field', 122, 395, 3, 366, 361, 64, 422, 6, 224, 509, 33, 37, 634, 1101, 70], ['Mar Lee', 267, 1490, 15, 632, 303, 350, 417, 9, 373, 751, 105, 79, 596, 1542, 93], ['Marston', 67, 483, 3, 337, 173, 47, 597, 0, 203, 448, 36, 34, 531, 784, 84], ['Montbello', 760, 4734, 39, 1428, 530, 664, 855, 25, 985, 2121, 256, 171, 1300, 3344, 231], ['Montclair', 61, 539, 3, 251, 260, 137, 709, 4, 139, 326, 76, 24, 342, 1320, 55], ['North Capitol Hill', 342, 1547, 14, 442, 466, 1010, 1130, 5, 610, 1187, 162, 118, 841, 1630, 184], ['North Park Hill', 105, 640, 5, 281, 363, 68, 271, 4, 141, 357, 39, 26, 416, 928, 48], ['Northeast Park Hill', 338, 1659, 14, 955, 435, 277, 649, 15, 499, 952, 91, 86, 961, 2873, 141], ['Overland', 109, 883, 11, 340, 368, 372, 372, 3, 156, 428, 45, 32, 501, 1460, 51], ['Platt Park', 23, 272, 7, 266, 358, 105, 349, 1, 74, 317, 36, 16, 574, 906, 41], ['Regis', 56, 393, 5, 290, 197, 152, 218, 0, 90, 236, 22, 28, 317, 605, 37], ['Rosedale', 20, 164, 1, 126, 173, 74, 125, 0, 71, 154, 13, 19, 230, 445, 19], ['Ruby Hill', 235, 1330, 10, 586, 337, 320, 305, 5, 309, 647, 75, 61, 595, 1172, 78], ['Skyland', 48, 428, 4, 93, 143, 40, 114, 4, 87, 194, 29, 10, 192, 538, 18], ['Sloan Lake', 97, 496, 4, 399, 435, 102, 396, 1, 144, 505, 36, 23, 582, 805, 29], ['South Park Hill', 71, 448, 4, 304, 284, 104, 341, 5, 154, 471, 78, 32, 455, 1101, 45], ['Southmoor Park', 35, 116, 4, 317, 201, 38, 212, 0, 82, 278, 15, 17, 558, 874, 50], ['Speer', 100, 936, 4, 689, 558, 216, 1151, 4, 246, 804, 76, 53, 1144, 2361, 116], ['Stapleton', 19, 294, 0, 62, 78, 104, 367, 0, 58, 89, 15, 0, 56, 780, 32], ['Sun Valley', 148, 1215, 5, 187, 111, 336, 294, 3, 250, 426, 85, 26, 161, 685, 32], ['Sunnyside', 167, 967, 8, 575, 387, 224, 491, 4, 291, 766, 93, 42, 643, 1406, 78], ['Union Station', 552, 2495, 13, 444, 626, 540, 2714, 11, 1018, 1466, 263, 150, 978, 1995, 153], ['University', 53, 314, 0, 292, 264, 83, 477, 2, 129, 429, 51, 36, 576, 1250, 71], ['University Hills', 72, 371, 2, 251, 260, 187, 687, 2, 115, 400, 53, 25, 493, 1074, 69], ['University Park', 42, 313, 4, 299, 296, 206, 466, 0, 99, 359, 41, 31, 602, 956, 76], ['Valverde', 156, 740, 15, 371, 238, 213, 218, 4, 145, 375, 77, 22, 361, 648, 40], ['Villa Park', 229, 1901, 17, 612, 333, 440, 366, 4, 319, 668, 136, 58, 527, 1457, 56], ['Virginia Village', 101, 495, 8, 684, 380, 220, 644, 4, 271, 579, 51, 53, 802, 1557, 133], ['Washington Park', 28, 195, 1, 195, 281, 73, 275, 0, 71, 264, 7, 24, 479, 1062, 43], ['Washington Park West', 33, 315, 1, 301, 357, 77, 392, 1, 73, 328, 13, 15, 658, 1667, 53], ['Washington Virginia Vale', 194, 763, 8, 715, 486, 237, 709, 4, 374, 821, 109, 90, 804, 2029, 127], ['Wellshire', 8, 33, 0, 47, 61, 17, 50, 0, 14, 60, 4, 3, 113, 169, 10], ['West Colfax', 403, 2489, 22, 790, 541, 649, 938, 13, 642, 1424, 174, 124, 869, 1527, 83], ['West Highland', 58, 467, 2, 415, 441, 100, 620, 1, 157, 470, 50, 30, 749, 1229, 67], ['Westwood', 474, 3213, 20, 912, 420, 572, 399, 17, 598, 1116, 173, 91, 857, 2341, 78], ['Whittier', 152, 594, 2, 250, 185, 74, 259, 5, 201, 427, 36, 32, 276, 506, 29], ['Windsor', 148, 244, 3, 683, 312, 49, 291, 3, 275, 560, 50, 55, 679, 886, 131]]"
   ]
  },
  {
   "cell_type": "code",
   "execution_count": 58,
   "id": "688d5ec5",
   "metadata": {},
   "outputs": [
    {
     "name": "stdout",
     "output_type": "stream",
     "text": [
      "     Neighborhood  aggravated-assault  all-other-crimes  arson  auto-theft  \\\n",
      "0     Athmar Park                 211              1498     11         551   \n",
      "1         Auraria                  58              1416      4          97   \n",
      "2           Baker                 183              1745     25         624   \n",
      "3          Barnum                 185              1530     19         342   \n",
      "4     Barnum West                  94               653      6         323   \n",
      "..            ...                 ...               ...    ...         ...   \n",
      "73    West Colfax                 403              2489     22         790   \n",
      "74  West Highland                  58               467      2         415   \n",
      "75       Westwood                 474              3213     20         912   \n",
      "76       Whittier                 152               594      2         250   \n",
      "77        Windsor                 148               244      3         683   \n",
      "\n",
      "    burglary  drug-alcohol  larceny  murder  other-crimes-against-persons  \\\n",
      "0        295           438      380      11                           263   \n",
      "1        104           227      558       1                           222   \n",
      "2        515           554     1530       5                           297   \n",
      "3        220           285      178       6                           238   \n",
      "4        140           236      116       3                           128   \n",
      "..       ...           ...      ...     ...                           ...   \n",
      "73       541           649      938      13                           642   \n",
      "74       441           100      620       1                           157   \n",
      "75       420           572      399      17                           598   \n",
      "76       185            74      259       5                           201   \n",
      "77       312            49      291       3                           275   \n",
      "\n",
      "    public-disorder  robbery  sexual-assault  theft-from-motor-vehicle  \\\n",
      "0               612      102              44                       639   \n",
      "1               484       33              35                       147   \n",
      "2               979      128              38                       824   \n",
      "3               534       81              44                       357   \n",
      "4               292       29              19                       310   \n",
      "..              ...      ...             ...                       ...   \n",
      "73             1424      174             124                       869   \n",
      "74              470       50              30                       749   \n",
      "75             1116      173              91                       857   \n",
      "76              427       36              32                       276   \n",
      "77              560       50              55                       679   \n",
      "\n",
      "    traffic-accident  white-collar-crime  \n",
      "0               1419                  73  \n",
      "1               1291                  40  \n",
      "2               5964                 102  \n",
      "3               1239                  54  \n",
      "4                775                  26  \n",
      "..               ...                 ...  \n",
      "73              1527                  83  \n",
      "74              1229                  67  \n",
      "75              2341                  78  \n",
      "76               506                  29  \n",
      "77               886                 131  \n",
      "\n",
      "[78 rows x 16 columns]\n"
     ]
    }
   ],
   "source": [
    "# Create the pandas DataFrame\n",
    "df = pd.DataFrame(warehouse, columns = ['Neighborhood', 'aggravated-assault', 'all-other-crimes', 'arson', 'auto-theft', 'burglary', 'drug-alcohol', 'larceny', 'murder', 'other-crimes-against-persons', 'public-disorder', 'robbery', 'sexual-assault', 'theft-from-motor-vehicle', 'traffic-accident', 'white-collar-crime'])\n",
    " \n",
    "# print dataframe.\n",
    "print(df)"
   ]
  },
  {
   "cell_type": "code",
   "execution_count": 59,
   "id": "5166d8b1",
   "metadata": {},
   "outputs": [],
   "source": [
    "df.to_pickle('crime_warehouse.pkl')\n",
    "df.to_csv('crime_warehouse.csv')"
   ]
  },
  {
   "cell_type": "code",
   "execution_count": null,
   "id": "b0429d75",
   "metadata": {},
   "outputs": [],
   "source": []
  }
 ],
 "metadata": {
  "kernelspec": {
   "display_name": "Python 3 (ipykernel)",
   "language": "python",
   "name": "python3"
  },
  "language_info": {
   "codemirror_mode": {
    "name": "ipython",
    "version": 3
   },
   "file_extension": ".py",
   "mimetype": "text/x-python",
   "name": "python",
   "nbconvert_exporter": "python",
   "pygments_lexer": "ipython3",
   "version": "3.9.7"
  }
 },
 "nbformat": 4,
 "nbformat_minor": 5
}
